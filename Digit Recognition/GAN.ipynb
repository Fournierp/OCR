{
  "nbformat": 4,
  "nbformat_minor": 0,
  "metadata": {
    "colab": {
      "name": "GAN",
      "provenance": [],
      "collapsed_sections": []
    },
    "kernelspec": {
      "name": "python3",
      "display_name": "Python 3"
    },
    "language_info": {
      "name": "python"
    },
    "accelerator": "GPU"
  },
  "cells": [
    {
      "cell_type": "code",
      "metadata": {
        "id": "4KBqUZ4W2xAS"
      },
      "source": [
        "import numpy as np\n",
        "import os\n",
        "\n",
        "import matplotlib.pyplot as plt\n",
        "%matplotlib inline\n",
        "\n",
        "import tensorflow as tf\n",
        "from tensorflow import keras\n",
        "\n",
        "from tensorflow.keras.models import Model\n",
        "from tensorflow.keras.layers import (Activation,\n",
        "                                     Conv2D,\n",
        "                                     Conv2DTranspose,\n",
        "                                     Dense,\n",
        "                                     GlobalMaxPooling2D,\n",
        "                                     Input,\n",
        "                                     LeakyReLU,\n",
        "                                     Reshape)\n",
        "from tensorflow.keras.losses import categorical_crossentropy\n",
        "from tensorflow.keras import backend as K"
      ],
      "execution_count": null,
      "outputs": []
    },
    {
      "cell_type": "code",
      "metadata": {
        "id": "6LTNvvuCJqxN",
        "colab": {
          "base_uri": "https://localhost:8080/"
        },
        "outputId": "399399f9-c5d5-493e-b991-6eeec3b69f9a"
      },
      "source": [
        "def build_discriminator():\n",
        "    x = Input(shape=(28, 28, 1))\n",
        "\n",
        "    hidden = Conv2D(64, kernel_size=(3, 3), strides=(2, 2), padding=\"same\")(x)\n",
        "    hidden = LeakyReLU(alpha = 0.2)(hidden)\n",
        "\n",
        "    hidden = Conv2D(128, kernel_size=(3, 3), strides=(2, 2), padding=\"same\")(hidden)\n",
        "    hidden = LeakyReLU(alpha = 0.2)(hidden)\n",
        "    hidden = GlobalMaxPooling2D()(hidden)\n",
        "\n",
        "    y = Dense(1)(hidden)\n",
        "\n",
        "    return Model(inputs=x, outputs=y)\n",
        "    \n",
        "discriminator = build_discriminator()\n",
        "discriminator.summary()"
      ],
      "execution_count": null,
      "outputs": [
        {
          "output_type": "stream",
          "text": [
            "Model: \"model\"\n",
            "_________________________________________________________________\n",
            "Layer (type)                 Output Shape              Param #   \n",
            "=================================================================\n",
            "input_1 (InputLayer)         [(None, 28, 28, 1)]       0         \n",
            "_________________________________________________________________\n",
            "conv2d (Conv2D)              (None, 14, 14, 64)        640       \n",
            "_________________________________________________________________\n",
            "leaky_re_lu (LeakyReLU)      (None, 14, 14, 64)        0         \n",
            "_________________________________________________________________\n",
            "conv2d_1 (Conv2D)            (None, 7, 7, 128)         73856     \n",
            "_________________________________________________________________\n",
            "leaky_re_lu_1 (LeakyReLU)    (None, 7, 7, 128)         0         \n",
            "_________________________________________________________________\n",
            "global_max_pooling2d (Global (None, 128)               0         \n",
            "_________________________________________________________________\n",
            "dense (Dense)                (None, 1)                 129       \n",
            "=================================================================\n",
            "Total params: 74,625\n",
            "Trainable params: 74,625\n",
            "Non-trainable params: 0\n",
            "_________________________________________________________________\n"
          ],
          "name": "stdout"
        }
      ]
    },
    {
      "cell_type": "code",
      "metadata": {
        "id": "QkYfKQQv2lRG",
        "colab": {
          "base_uri": "https://localhost:8080/"
        },
        "outputId": "7d0c1f84-c096-4ed9-c8a9-2bff405283d3"
      },
      "source": [
        "latent_dim = 128\n",
        "def build_generator(latent_dim):\n",
        "    x = Input(shape=(latent_dim, ))\n",
        "\n",
        "    hidden = Dense(7 * 7 * 128)(x)\n",
        "    hidden = LeakyReLU(alpha = 0.2)(hidden)\n",
        "    hidden = Reshape((7, 7, 128))(hidden)\n",
        "\n",
        "    hidden = Conv2DTranspose(128, kernel_size=(3, 3), strides=(2, 2), padding=\"same\")(hidden)\n",
        "    hidden = LeakyReLU(alpha = 0.2)(hidden)\n",
        "\n",
        "    hidden = Conv2DTranspose(128, kernel_size=(3, 3), strides=(2, 2), padding=\"same\")(hidden)\n",
        "    hidden = LeakyReLU(alpha = 0.2)(hidden)\n",
        "\n",
        "    y = Conv2D(1, (7, 7), padding=\"same\", activation=\"sigmoid\")(hidden)\n",
        "\n",
        "    return Model(inputs=x, outputs=y)\n",
        "\n",
        "generator = build_generator(latent_dim)\n",
        "generator.summary()"
      ],
      "execution_count": null,
      "outputs": [
        {
          "output_type": "stream",
          "text": [
            "Model: \"model_1\"\n",
            "_________________________________________________________________\n",
            "Layer (type)                 Output Shape              Param #   \n",
            "=================================================================\n",
            "input_2 (InputLayer)         [(None, 128)]             0         \n",
            "_________________________________________________________________\n",
            "dense_1 (Dense)              (None, 6272)              809088    \n",
            "_________________________________________________________________\n",
            "leaky_re_lu_2 (LeakyReLU)    (None, 6272)              0         \n",
            "_________________________________________________________________\n",
            "reshape (Reshape)            (None, 7, 7, 128)         0         \n",
            "_________________________________________________________________\n",
            "conv2d_transpose (Conv2DTran (None, 14, 14, 128)       147584    \n",
            "_________________________________________________________________\n",
            "leaky_re_lu_3 (LeakyReLU)    (None, 14, 14, 128)       0         \n",
            "_________________________________________________________________\n",
            "conv2d_transpose_1 (Conv2DTr (None, 28, 28, 128)       147584    \n",
            "_________________________________________________________________\n",
            "leaky_re_lu_4 (LeakyReLU)    (None, 28, 28, 128)       0         \n",
            "_________________________________________________________________\n",
            "conv2d_2 (Conv2D)            (None, 28, 28, 1)         6273      \n",
            "=================================================================\n",
            "Total params: 1,110,529\n",
            "Trainable params: 1,110,529\n",
            "Non-trainable params: 0\n",
            "_________________________________________________________________\n"
          ],
          "name": "stdout"
        }
      ]
    },
    {
      "cell_type": "code",
      "metadata": {
        "id": "YRt9LzN8HSlF"
      },
      "source": [
        "class CustomCallback(tf.keras.callbacks.Callback):\n",
        "    def __init__(self, latent_dim, batch_size, save_dir):\n",
        "        super(CustomCallback, self).__init__()\n",
        "        self.latent_dim = latent_dim\n",
        "        self.batch_size = batch_size\n",
        "        self.save_dir = save_dir\n",
        "\n",
        "    def on_epoch_end(self, epoch, logs=None):\n",
        "        keys = list(logs.keys())\n",
        "        # Sample the latent space\n",
        "        latent_vectors = tf.random.normal(shape=(self.batch_size, self.latent_dim))\n",
        "        # Decode them to fake images\n",
        "        generated_images = self.model(latent_vectors)\n",
        "        # Save them\n",
        "        img = tf.keras.preprocessing.image.array_to_img(\n",
        "            generated_images[np.random.randint(0, self.batch_size)] * 255.0,\n",
        "            scale=False\n",
        "        )\n",
        "        img.save(os.path.join(self.save_dir, f\"GAN_img_{epoch:02d}.png\"))"
      ],
      "execution_count": null,
      "outputs": []
    },
    {
      "cell_type": "code",
      "metadata": {
        "id": "B4wRcV3tOAhX"
      },
      "source": [
        "class CustomModel(tf.keras.Model):\n",
        "    def __init__(self, generator, discriminator, batch_size, latent_dim, **kwargs):\n",
        "        super(CustomModel, self).__init__(**kwargs)\n",
        "\n",
        "        self.generator = generator\n",
        "        self.discriminator = discriminator\n",
        "        self.batch_size = batch_size\n",
        "        self.latent_dim = latent_dim\n",
        "\n",
        "        self.loss_fn = keras.losses.BinaryCrossentropy(from_logits=True)\n",
        "\n",
        "        self.generator_opt = keras.optimizers.Adam(learning_rate=0.0004)\n",
        "        self.discriminator_opt = keras.optimizers.Adam(learning_rate=0.0003)\n",
        "\n",
        "        self.g_loss = tf.keras.metrics.Mean(name='gloss')\n",
        "        self.d_loss = tf.keras.metrics.Mean(name='dloss')\n",
        "\n",
        "    @property\n",
        "    def metrics(self):\n",
        "        return [\n",
        "            self.g_loss,\n",
        "            self.d_loss\n",
        "        ]\n",
        "\n",
        "    @tf.function\n",
        "    def call(self, input):\n",
        "        output = self.generator(input)\n",
        "        return output\n",
        "\n",
        "    @tf.function\n",
        "    def test_step(self, data):\n",
        "        return {}\n",
        "\n",
        "    @tf.function\n",
        "    def train_step(self, real_images):\n",
        "        # Generate fake dataset\n",
        "        # Sample the latent space\n",
        "        latent_vectors = tf.random.normal(shape=(self.batch_size, self.latent_dim))\n",
        "        # Decode them to fake images\n",
        "        generated_images = self.generator(latent_vectors)\n",
        "        x = tf.concat([generated_images, real_images], axis=0)\n",
        "        # 1 - Fake & 0 - Real\n",
        "        y = tf.concat(\n",
        "            [tf.ones((self.batch_size, 1)), tf.zeros((self.batch_size, 1))], axis=0\n",
        "        )\n",
        "        # Add noise to the labels\n",
        "        y += 0.05 * tf.random.uniform(y.shape)\n",
        "\n",
        "        # Train the discriminator\n",
        "        with tf.GradientTape() as tape:\n",
        "            predictions = self.discriminator(x)\n",
        "            d_loss = self.loss_fn(y, predictions)\n",
        "        # Backpropagation\n",
        "        grads = tape.gradient(d_loss, self.discriminator.trainable_weights)\n",
        "        # Weigth update\n",
        "        self.discriminator_opt.apply_gradients(zip(grads, self.discriminator.trainable_weights))\n",
        "\n",
        "        # Sample the latent space\n",
        "        latent_vectors = tf.random.normal(shape=(self.batch_size, self.latent_dim))\n",
        "\n",
        "        # Train the generator\n",
        "        with tf.GradientTape() as tape:\n",
        "            predictions = self.discriminator(self.generator(latent_vectors))\n",
        "            # Loss is lower when the discriminator predicts that generated imgs are real.\n",
        "            g_loss = self.loss_fn(tf.zeros((batch_size, 1)), predictions)\n",
        "        # Backpropagation\n",
        "        grads = tape.gradient(g_loss, self.generator.trainable_weights)\n",
        "        # Weigth update\n",
        "        self.generator_opt.apply_gradients(zip(grads, self.generator.trainable_weights))\n",
        "\n",
        "        # Update training metric\n",
        "        self.d_loss.update_state(d_loss)\n",
        "        self.g_loss.update_state(g_loss)\n",
        "        return {\n",
        "            \"Generator CCE\":     self.g_loss.result(),\n",
        "            \"Discriminator CCE\": self.d_loss.result(),\n",
        "        }"
      ],
      "execution_count": null,
      "outputs": []
    },
    {
      "cell_type": "code",
      "metadata": {
        "id": "1D24m4ze-WPI"
      },
      "source": [
        "save_dir = \"./\"\n",
        "\n",
        "batch_size = 64\n",
        "(x_train, _), (x_test, _) = keras.datasets.mnist.load_data()\n",
        "all_digits = np.concatenate([x_train, x_test])\n",
        "all_digits = all_digits.astype(\"float32\") / 255.0\n",
        "all_digits = np.reshape(all_digits, (-1, 28, 28, 1))\n",
        "dataset = tf.data.Dataset.from_tensor_slices(all_digits)\n",
        "dataset = dataset.shuffle(buffer_size=1024).batch(batch_size, drop_remainder=True)"
      ],
      "execution_count": null,
      "outputs": []
    },
    {
      "cell_type": "code",
      "metadata": {
        "colab": {
          "base_uri": "https://localhost:8080/"
        },
        "id": "LXh7jVBl-7wV",
        "outputId": "62c26e50-dbfe-4684-d754-5b7b3ade1266"
      },
      "source": [
        "cm = CustomModel(build_generator(latent_dim), build_discriminator(), batch_size, latent_dim)\n",
        "cm.compile()\n",
        "\n",
        "epochs = 50\n",
        "history = cm.fit(dataset,\n",
        "                 epochs=epochs,\n",
        "                 callbacks=[CustomCallback(latent_dim, batch_size, save_dir)],\n",
        ")"
      ],
      "execution_count": null,
      "outputs": [
        {
          "output_type": "stream",
          "text": [
            "Epoch 1/50\n",
            "1093/1093 [==============================] - 33s 27ms/step - Generator CCE: 1.1586 - Discriminator CCE: 0.4794\n",
            "Epoch 2/50\n",
            "1093/1093 [==============================] - 29s 26ms/step - Generator CCE: 3.6796 - Discriminator CCE: 0.2739\n",
            "Epoch 3/50\n",
            "1093/1093 [==============================] - 29s 26ms/step - Generator CCE: 0.9236 - Discriminator CCE: 0.6604\n",
            "Epoch 4/50\n",
            "1093/1093 [==============================] - 29s 27ms/step - Generator CCE: 0.9065 - Discriminator CCE: 0.6484\n",
            "Epoch 5/50\n",
            "1093/1093 [==============================] - 29s 26ms/step - Generator CCE: 0.9993 - Discriminator CCE: 0.6087\n",
            "Epoch 6/50\n",
            "1093/1093 [==============================] - 29s 26ms/step - Generator CCE: 1.0383 - Discriminator CCE: 0.5879\n",
            "Epoch 7/50\n",
            "1093/1093 [==============================] - 29s 27ms/step - Generator CCE: 1.0916 - Discriminator CCE: 0.5633\n",
            "Epoch 8/50\n",
            "1093/1093 [==============================] - 29s 27ms/step - Generator CCE: 1.1105 - Discriminator CCE: 0.5476\n",
            "Epoch 9/50\n",
            "1093/1093 [==============================] - 29s 26ms/step - Generator CCE: 1.0583 - Discriminator CCE: 0.5607\n",
            "Epoch 10/50\n",
            "1093/1093 [==============================] - 29s 27ms/step - Generator CCE: 1.0611 - Discriminator CCE: 0.5641\n",
            "Epoch 11/50\n",
            "1093/1093 [==============================] - 29s 26ms/step - Generator CCE: 1.0459 - Discriminator CCE: 0.5717\n",
            "Epoch 12/50\n",
            "1093/1093 [==============================] - 29s 26ms/step - Generator CCE: 1.0361 - Discriminator CCE: 0.5769\n",
            "Epoch 13/50\n",
            "1093/1093 [==============================] - 29s 26ms/step - Generator CCE: 1.0294 - Discriminator CCE: 0.5823\n",
            "Epoch 14/50\n",
            "1093/1093 [==============================] - 29s 27ms/step - Generator CCE: 1.0249 - Discriminator CCE: 0.5845\n",
            "Epoch 15/50\n",
            "1093/1093 [==============================] - 29s 26ms/step - Generator CCE: 1.0131 - Discriminator CCE: 0.5874\n",
            "Epoch 16/50\n",
            "1093/1093 [==============================] - 29s 27ms/step - Generator CCE: 1.0072 - Discriminator CCE: 0.5897\n",
            "Epoch 17/50\n",
            "1093/1093 [==============================] - 29s 26ms/step - Generator CCE: 1.0129 - Discriminator CCE: 0.5900\n",
            "Epoch 18/50\n",
            "1093/1093 [==============================] - 29s 26ms/step - Generator CCE: 1.0099 - Discriminator CCE: 0.5896\n",
            "Epoch 19/50\n",
            "1093/1093 [==============================] - 29s 26ms/step - Generator CCE: 1.0114 - Discriminator CCE: 0.5922\n",
            "Epoch 20/50\n",
            "1093/1093 [==============================] - 29s 26ms/step - Generator CCE: 1.0170 - Discriminator CCE: 0.5918\n",
            "Epoch 21/50\n",
            "1093/1093 [==============================] - 29s 26ms/step - Generator CCE: 1.0142 - Discriminator CCE: 0.5926\n",
            "Epoch 22/50\n",
            "1093/1093 [==============================] - 29s 26ms/step - Generator CCE: 1.0142 - Discriminator CCE: 0.5944\n",
            "Epoch 23/50\n",
            "1093/1093 [==============================] - 29s 26ms/step - Generator CCE: 1.0163 - Discriminator CCE: 0.5951\n",
            "Epoch 24/50\n",
            "1093/1093 [==============================] - 29s 26ms/step - Generator CCE: 1.0137 - Discriminator CCE: 0.5963\n",
            "Epoch 25/50\n",
            "1093/1093 [==============================] - 29s 27ms/step - Generator CCE: 1.0153 - Discriminator CCE: 0.5961\n",
            "Epoch 26/50\n",
            "1093/1093 [==============================] - 29s 26ms/step - Generator CCE: 1.0100 - Discriminator CCE: 0.5949\n",
            "Epoch 27/50\n",
            "1093/1093 [==============================] - 29s 26ms/step - Generator CCE: 1.0133 - Discriminator CCE: 0.5989\n",
            "Epoch 28/50\n",
            "1093/1093 [==============================] - 29s 26ms/step - Generator CCE: 1.0074 - Discriminator CCE: 0.5992\n",
            "Epoch 29/50\n",
            "1093/1093 [==============================] - 29s 26ms/step - Generator CCE: 1.0113 - Discriminator CCE: 0.6025\n",
            "Epoch 30/50\n",
            "1093/1093 [==============================] - 29s 26ms/step - Generator CCE: 1.0093 - Discriminator CCE: 0.6022\n",
            "Epoch 31/50\n",
            "1093/1093 [==============================] - 29s 26ms/step - Generator CCE: 1.0092 - Discriminator CCE: 0.6031\n",
            "Epoch 32/50\n",
            "1093/1093 [==============================] - 29s 27ms/step - Generator CCE: 1.0041 - Discriminator CCE: 0.6032\n",
            "Epoch 33/50\n",
            "1093/1093 [==============================] - 29s 26ms/step - Generator CCE: 1.0087 - Discriminator CCE: 0.6063\n",
            "Epoch 34/50\n",
            "1093/1093 [==============================] - 29s 26ms/step - Generator CCE: 1.0051 - Discriminator CCE: 0.6059\n",
            "Epoch 35/50\n",
            "1093/1093 [==============================] - 29s 26ms/step - Generator CCE: 1.0049 - Discriminator CCE: 0.6039\n",
            "Epoch 36/50\n",
            "1093/1093 [==============================] - 29s 26ms/step - Generator CCE: 0.9975 - Discriminator CCE: 0.6036\n",
            "Epoch 37/50\n",
            "1093/1093 [==============================] - 29s 26ms/step - Generator CCE: 1.0106 - Discriminator CCE: 0.6033\n",
            "Epoch 38/50\n",
            "1093/1093 [==============================] - 29s 26ms/step - Generator CCE: 1.0060 - Discriminator CCE: 0.6038\n",
            "Epoch 39/50\n",
            "1093/1093 [==============================] - 29s 26ms/step - Generator CCE: 1.0057 - Discriminator CCE: 0.6045\n",
            "Epoch 40/50\n",
            "1093/1093 [==============================] - 29s 26ms/step - Generator CCE: 1.0029 - Discriminator CCE: 0.6047\n",
            "Epoch 41/50\n",
            "1093/1093 [==============================] - 29s 26ms/step - Generator CCE: 1.0029 - Discriminator CCE: 0.6061\n",
            "Epoch 42/50\n",
            "1093/1093 [==============================] - 29s 26ms/step - Generator CCE: 0.9989 - Discriminator CCE: 0.6058\n",
            "Epoch 43/50\n",
            "1093/1093 [==============================] - 29s 26ms/step - Generator CCE: 0.9992 - Discriminator CCE: 0.6068\n",
            "Epoch 44/50\n",
            "1093/1093 [==============================] - 29s 26ms/step - Generator CCE: 1.0136 - Discriminator CCE: 0.6075\n",
            "Epoch 45/50\n",
            "1093/1093 [==============================] - 29s 26ms/step - Generator CCE: 1.0002 - Discriminator CCE: 0.6088\n",
            "Epoch 46/50\n",
            "1093/1093 [==============================] - 29s 26ms/step - Generator CCE: 1.0002 - Discriminator CCE: 0.6060\n",
            "Epoch 47/50\n",
            "1093/1093 [==============================] - 29s 26ms/step - Generator CCE: 1.0000 - Discriminator CCE: 0.6083\n",
            "Epoch 48/50\n",
            "1093/1093 [==============================] - 29s 26ms/step - Generator CCE: 1.0039 - Discriminator CCE: 0.6083\n",
            "Epoch 49/50\n",
            "1093/1093 [==============================] - 29s 26ms/step - Generator CCE: 1.0061 - Discriminator CCE: 0.6081\n",
            "Epoch 50/50\n",
            "1093/1093 [==============================] - 29s 26ms/step - Generator CCE: 0.9918 - Discriminator CCE: 0.6087\n"
          ],
          "name": "stdout"
        }
      ]
    },
    {
      "cell_type": "code",
      "metadata": {
        "id": "KFQNRFdj_lDj",
        "colab": {
          "base_uri": "https://localhost:8080/",
          "height": 128
        },
        "outputId": "7691a38c-6e3b-46f5-e14f-4c4dec784afa"
      },
      "source": [
        "import glob \n",
        "\n",
        "imgs_path = glob.glob(os.path.join(save_dir, \"GAN_img_*.png\"))\n",
        "imgs_path.sort()\n",
        "\n",
        "from PIL import Image\n",
        "\n",
        "fig, (ax1, ax2, ax3, ax4, ax5, ax6, ax7, ax8, ax9, ax10, ax11) = plt.subplots(1, 11, figsize=(15,15))\n",
        "g = ax1.imshow(Image.open(imgs_path[0])); ax1.axis('off'); ax1.set_title(f'Epoch: {0}')\n",
        "g = ax2.imshow(Image.open(imgs_path[5])); ax2.axis('off'); ax2.set_title(f'Epoch: {5}')\n",
        "g = ax3.imshow(Image.open(imgs_path[10])); ax3.axis('off'); ax3.set_title(f'Epoch: {10}')\n",
        "g = ax4.imshow(Image.open(imgs_path[15])); ax4.axis('off'); ax4.set_title(f'Epoch: {15}')\n",
        "g = ax5.imshow(Image.open(imgs_path[20])); ax5.axis('off'); ax5.set_title(f'Epoch: {20}')\n",
        "g = ax6.imshow(Image.open(imgs_path[25])); ax6.axis('off'); ax6.set_title(f'Epoch: {25}')\n",
        "g = ax7.imshow(Image.open(imgs_path[29])); ax7.axis('off'); ax7.set_title(f'Epoch: {29}')\n",
        "g = ax8.imshow(Image.open(imgs_path[35])); ax8.axis('off'); ax8.set_title(f'Epoch: {35}')\n",
        "g = ax9.imshow(Image.open(imgs_path[40])); ax9.axis('off'); ax9.set_title(f'Epoch: {40}')\n",
        "g = ax10.imshow(Image.open(imgs_path[45])); ax10.axis('off'); ax10.set_title(f'Epoch: {45}')\n",
        "g = ax11.imshow(Image.open(imgs_path[49])); ax11.axis('off'); ax11.set_title(f'Epoch: {49}')"
      ],
      "execution_count": null,
      "outputs": [
        {
          "output_type": "execute_result",
          "data": {
            "text/plain": [
              "Text(0.5, 1.0, 'Epoch: 49')"
            ]
          },
          "metadata": {
            "tags": []
          },
          "execution_count": 13
        },
        {
          "output_type": "display_data",
          "data": {
            "image/png": "[encoded data removed]",
            "text/plain": [
              "<Figure size 1080x1080 with 11 Axes>"
            ]
          },
          "metadata": {
            "tags": [],
            "needs_background": "light"
          }
        }
      ]
    },
    {
      "cell_type": "code",
      "metadata": {
        "id": "Epn7HMwEpUei"
      },
      "source": [
        ""
      ],
      "execution_count": null,
      "outputs": []
    }
  ]
}