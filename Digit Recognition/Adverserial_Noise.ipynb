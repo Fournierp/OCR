{
  "nbformat": 4,
  "nbformat_minor": 2,
  "metadata": {
    "kernelspec": {
      "language": "python",
      "display_name": "Python 3",
      "name": "python3"
    },
    "language_info": {
      "name": "python",
      "version": "3.6.6",
      "mimetype": "text/x-python",
      "codemirror_mode": {
        "name": "ipython",
        "version": 3
      },
      "pygments_lexer": "ipython3",
      "nbconvert_exporter": "python",
      "file_extension": ".py"
    },
    "colab": {
      "name": "Adverserial Noise",
      "provenance": [],
      "collapsed_sections": [
        "IoarQnfNrc-d"
      ]
    },
    "accelerator": "GPU"
  },
  "cells": [
    {
      "cell_type": "markdown",
      "source": [
        "# Introduction\n",
        "\n",
        "\n",
        "![alt text](https://raw.githubusercontent.com/Fournierp/OCR/master/Digit%20Recognition/digits.png)\n",
        "\n",
        "# Imports"
      ],
      "metadata": {
        "id": "FasNoRkWo3JQ"
      }
    },
    {
      "cell_type": "code",
      "execution_count": 1,
      "source": [
        "import matplotlib.pyplot as plt\n",
        "%matplotlib inline\n",
        "\n",
        "import numpy as np\n",
        "import scipy.ndimage as ndimage\n",
        "import cv2\n",
        "\n",
        "from sklearn.decomposition import PCA\n",
        "from sklearn.metrics import confusion_matrix\n",
        "import itertools\n",
        "\n",
        "from collections import Counter\n",
        "\n",
        "from keras.datasets import mnist\n",
        "from keras.utils.np_utils import to_categorical\n",
        "from tensorflow.keras.models import Model\n",
        "from tensorflow.keras.layers import Activation, Conv2D, Dense, Dropout, Flatten, Input, MaxPool2D, BatchNormalization\n",
        "from tensorflow.keras.optimizers import Adam\n",
        "from tensorflow.keras.callbacks import EarlyStopping, ReduceLROnPlateau, Callback\n",
        "from tensorflow.keras.losses import categorical_crossentropy\n",
        "from tensorflow.keras import backend as K\n",
        "import tensorflow as tf"
      ],
      "outputs": [],
      "metadata": {
        "_uuid": "761d95bc3306105103121ac66b52d995fb6a2962",
        "execution": {
          "iopub.status.busy": "2021-05-31T20:11:05.281763Z",
          "iopub.execute_input": "2021-05-31T20:11:05.282027Z",
          "iopub.status.idle": "2021-05-31T20:11:09.056046Z",
          "shell.execute_reply.started": "2021-05-31T20:11:05.281982Z",
          "shell.execute_reply": "2021-05-31T20:11:09.055346Z"
        },
        "trusted": true,
        "id": "gEB6BuIrF-da"
      }
    },
    {
      "cell_type": "markdown",
      "source": [
        "# Data Preprocessing\n",
        "\n",
        "## Normalization & Reshape\n",
        "\n",
        "To avoid exploding gradients in our CNN, we will normalize our data."
      ],
      "metadata": {
        "id": "mQCsCctppq5n"
      }
    },
    {
      "cell_type": "code",
      "execution_count": 2,
      "source": [
        "(x_train, y_train), (x_test, y_test) = mnist.load_data()\n",
        "\n",
        "x_train = x_train.astype(\"float32\") / 255.0\n",
        "x_train = np.reshape(x_train, (-1, 28, 28, 1))\n",
        "x_test = x_test.astype(\"float32\") / 255.0\n",
        "x_test = np.reshape(x_test, (-1, 28, 28, 1))"
      ],
      "outputs": [
        {
          "output_type": "stream",
          "name": "stdout",
          "text": [
            "Downloading data from https://storage.googleapis.com/tensorflow/tf-keras-datasets/mnist.npz\n",
            "11493376/11490434 [==============================] - 0s 0us/step\n",
            "11501568/11490434 [==============================] - 0s 0us/step\n"
          ]
        }
      ],
      "metadata": {
        "id": "XzcfMVWE4jQ4",
        "colab": {
          "base_uri": "https://localhost:8080/"
        },
        "outputId": "93a35d6d-98c5-481e-e328-3d56121a810a"
      }
    },
    {
      "cell_type": "markdown",
      "source": [
        "## Categorization\n",
        "\n",
        "The activation function of the last layer of our CNN will be a softmax function (which will tell the level of certainty with witch the model is about the categorization), so we will one hot encode the categories to achieve better results."
      ],
      "metadata": {
        "id": "IoarQnfNrc-d"
      }
    },
    {
      "cell_type": "code",
      "execution_count": 3,
      "source": [
        "y_train = to_categorical(y_train, num_classes = 10)\n",
        "y_test = to_categorical(y_test, num_classes = 10)\n",
        "\n",
        "batch_size=32\n",
        "\n",
        "dataset_train = tf.data.Dataset.from_tensor_slices((x_train, y_train))\n",
        "dataset_train = dataset_train.shuffle(buffer_size=1024).batch(batch_size)\n",
        "\n",
        "dataset_val = tf.data.Dataset.from_tensor_slices((x_test, y_test))\n",
        "dataset_val = dataset_val.batch(batch_size)"
      ],
      "outputs": [],
      "metadata": {
        "id": "_2bAf50JN865"
      }
    },
    {
      "cell_type": "markdown",
      "source": [
        "# Model Design\n",
        "\n",
        "In this model, we set the weights of the final layer to represent the distribution of the dataset. This is really useful for this unbalanced dataset (i.e. not a needed step for this one)."
      ],
      "metadata": {
        "_uuid": "461ba2cf9196334ca0e902886f8e76400763d9a9",
        "id": "zF_UJDu8F-du"
      }
    },
    {
      "cell_type": "code",
      "execution_count": 4,
      "source": [
        "def build_model(input_shape, output_shape):\n",
        "    x = Input(shape=input_shape)\n",
        "\n",
        "    hidden = Conv2D(16, kernel_size=(5, 5), activation='relu', padding='same')(x)\n",
        "    hidden = MaxPool2D(pool_size=2, strides=2)(hidden)\n",
        "\n",
        "    hidden = Conv2D(32, kernel_size=(5, 5), activation='relu', padding='same')(hidden)\n",
        "    hidden = MaxPool2D(pool_size=2, strides=2)(hidden)\n",
        "\n",
        "    hidden = Flatten()(hidden)\n",
        "    hidden = Dense(128, activation='relu')(hidden)\n",
        "\n",
        "    y = Dense(output_shape, activation='softmax')(hidden)\n",
        "\n",
        "    return Model(inputs=x, outputs=y)\n",
        "\n",
        "model = build_model((x_train.shape[1], x_train.shape[2], 1), 10)\n",
        "model.summary()"
      ],
      "outputs": [
        {
          "output_type": "stream",
          "name": "stdout",
          "text": [
            "Model: \"model\"\n",
            "_________________________________________________________________\n",
            "Layer (type)                 Output Shape              Param #   \n",
            "=================================================================\n",
            "input_1 (InputLayer)         [(None, 28, 28, 1)]       0         \n",
            "_________________________________________________________________\n",
            "conv2d (Conv2D)              (None, 28, 28, 16)        416       \n",
            "_________________________________________________________________\n",
            "max_pooling2d (MaxPooling2D) (None, 14, 14, 16)        0         \n",
            "_________________________________________________________________\n",
            "conv2d_1 (Conv2D)            (None, 14, 14, 32)        12832     \n",
            "_________________________________________________________________\n",
            "max_pooling2d_1 (MaxPooling2 (None, 7, 7, 32)          0         \n",
            "_________________________________________________________________\n",
            "flatten (Flatten)            (None, 1568)              0         \n",
            "_________________________________________________________________\n",
            "dense (Dense)                (None, 128)               200832    \n",
            "_________________________________________________________________\n",
            "dense_1 (Dense)              (None, 10)                1290      \n",
            "=================================================================\n",
            "Total params: 215,370\n",
            "Trainable params: 215,370\n",
            "Non-trainable params: 0\n",
            "_________________________________________________________________\n"
          ]
        }
      ],
      "metadata": {
        "_uuid": "f7d534968e144d9fcda51785f322e8da0bd6f5c2",
        "execution": {
          "iopub.status.busy": "2021-05-31T20:11:43.827419Z",
          "iopub.execute_input": "2021-05-31T20:11:43.827921Z",
          "iopub.status.idle": "2021-05-31T20:11:44.088967Z",
          "shell.execute_reply.started": "2021-05-31T20:11:43.827872Z",
          "shell.execute_reply": "2021-05-31T20:11:44.088079Z"
        },
        "trusted": true,
        "id": "FISuarZnF-du",
        "colab": {
          "base_uri": "https://localhost:8080/"
        },
        "outputId": "67cbb167-e6ea-4dc2-e866-14b1c27a15c2"
      }
    },
    {
      "cell_type": "markdown",
      "source": [
        "## Custom Training Loop\n",
        "\n"
      ],
      "metadata": {
        "id": "MB5cnfITvmq7"
      }
    },
    {
      "cell_type": "code",
      "execution_count": 5,
      "source": [
        "class CustomModel(tf.keras.Model):\n",
        "    def __init__(self, model, **kwargs):\n",
        "        super(CustomModel, self).__init__(**kwargs)\n",
        "\n",
        "        self.model = model\n",
        "\n",
        "        self.loss_fn = tf.keras.losses.CategoricalCrossentropy()\n",
        "\n",
        "        self.acc = tf.keras.metrics.CategoricalAccuracy(name='accuracy')\n",
        "        self.loss_metric = tf.keras.metrics.Mean(name='loss')\n",
        "\n",
        "    @property\n",
        "    def metrics(self):\n",
        "        return [\n",
        "            self.acc,\n",
        "            self.loss_metric\n",
        "        ]\n",
        "\n",
        "    @tf.function\n",
        "    def test_step(self, data):\n",
        "        x, y = data\n",
        "\n",
        "        # Inference on test set\n",
        "        y_pred = self.model(x, training=False)\n",
        "        \n",
        "        # Update metrics\n",
        "        self.acc.update_state(y, y_pred)\n",
        "        return {\n",
        "            \"Accuracy\": self.acc.result(),\n",
        "        }\n",
        "\n",
        "    @tf.function\n",
        "    def train_step(self, data):\n",
        "        x_batch, y_batch = data\n",
        "\n",
        "        # Forward pass\n",
        "        with tf.GradientTape() as tape:\n",
        "            y_pred = self.model(x_batch, training=True)\n",
        "            total_loss = self.loss_fn(y_batch, y_pred)\n",
        "\n",
        "        # Backpropagation\n",
        "        grads = tape.gradient(total_loss, self.model.trainable_weights)\n",
        "\n",
        "        # Weigth update\n",
        "        self.optimizer.apply_gradients(zip(grads, self.model.trainable_weights))\n",
        "\n",
        "        # Update training metric\n",
        "        self.acc.update_state(y_batch, y_pred)\n",
        "        self.loss_metric.update_state(total_loss)\n",
        "        return {\n",
        "            \"Accuracy\": self.acc.result(),\n",
        "            \"Categorical Cross Entropy\": self.loss_metric.result(),\n",
        "        }"
      ],
      "outputs": [],
      "metadata": {
        "id": "8J5SjS9thfmj"
      }
    },
    {
      "cell_type": "code",
      "execution_count": 6,
      "source": [
        "optimizer = tf.keras.optimizers.Adam()"
      ],
      "outputs": [],
      "metadata": {
        "id": "1avmHbhrdpDP"
      }
    },
    {
      "cell_type": "code",
      "execution_count": 7,
      "source": [
        "cm = CustomModel(model)\n",
        "cm.compile(optimizer)\n",
        "# cm.evaluate(dataset_train)"
      ],
      "outputs": [],
      "metadata": {
        "id": "YdGYXVD2xbpS"
      }
    },
    {
      "cell_type": "code",
      "execution_count": 8,
      "source": [
        "history = cm.fit(dataset_train, epochs=1, validation_data=dataset_val)"
      ],
      "outputs": [
        {
          "output_type": "stream",
          "name": "stdout",
          "text": [
            "1875/1875 [==============================] - 38s 4ms/step - Accuracy: 0.9049 - Categorical Cross Entropy: 0.3125 - val_Accuracy: 0.9834\n"
          ]
        }
      ],
      "metadata": {
        "colab": {
          "base_uri": "https://localhost:8080/"
        },
        "id": "AylNpRhpvGFI",
        "outputId": "ac3341e6-f825-464b-fede-ebf97b5a5a10"
      }
    },
    {
      "cell_type": "markdown",
      "source": [
        "# Interpretability\n",
        "\n",
        "Let's explore the outputs of some of the convolutional layers to determine if they are analysing noise or picking up on an actual signal."
      ],
      "metadata": {
        "id": "bf_AJxmIEYQn"
      }
    },
    {
      "cell_type": "code",
      "execution_count": 9,
      "source": [
        "def get_layer_output(model, idx, sample):\n",
        "    assert idx < len(model.layers)\n",
        "    assert idx > -2\n",
        "\n",
        "    try:\n",
        "        data_flow = K.function([model.layers[0].input],\n",
        "                            [model.layers[idx].output])\n",
        "        return data_flow(sample)\n",
        "    except:\n",
        "        print(\"Cannot get the layer\")\n",
        "        return None"
      ],
      "outputs": [],
      "metadata": {
        "id": "5b_QF0epiuxB"
      }
    },
    {
      "cell_type": "code",
      "execution_count": 12,
      "source": [
        "def show_vfeats(image1, image2, image3, image4, image5, image6, image7, image8):\n",
        "    fig, (ax1, ax2, ax3, ax4, ax5, ax6, ax7, ax8) = plt.subplots(1, 8, figsize=(15,15))\n",
        "    ax1.axis('off'), ax2.axis('off'), ax3.axis('off'), ax4.axis('off')\n",
        "    ax5.axis('off'), ax6.axis('off'), ax7.axis('off'), ax8.axis('off')\n",
        "\n",
        "    g = ax1.imshow(image1)\n",
        "    ax1.set_title(f'Filter: {1}')\n",
        "    g = ax2.imshow(image2)\n",
        "    ax2.set_title(f'Filter: {2}')\n",
        "    g = ax3.imshow(image3)\n",
        "    ax3.set_title(f'Filter: {3}')\n",
        "    g = ax4.imshow(image4)\n",
        "    ax4.set_title(f'Filter: {4}')\n",
        "    g = ax5.imshow(image5)\n",
        "    ax5.set_title(f'Filter: {5}')\n",
        "    g = ax6.imshow(image6)\n",
        "    ax6.set_title(f'Filter: {6}')\n",
        "    g = ax7.imshow(image7)\n",
        "    ax7.set_title(f'Filter: {7}')\n",
        "    g = ax8.imshow(image8)\n",
        "    ax8.set_title(f'Filter: {8}')\n",
        "\n",
        "for image, label in dataset_train.take(2):\n",
        "    vfeat = get_layer_output(model, 1, image)[0]\n",
        "\n",
        "    show_vfeats(\n",
        "        np.reshape(vfeat[0, :, :, 0], (28, 28)),\n",
        "        np.reshape(vfeat[0, :, :, 1], (28, 28)),\n",
        "        np.reshape(vfeat[0, :, :, 2], (28, 28)),\n",
        "        np.reshape(vfeat[0, :, :, 3], (28, 28)),\n",
        "        np.reshape(vfeat[0, :, :, 4], (28, 28)),\n",
        "        np.reshape(vfeat[0, :, :, 5], (28, 28)),\n",
        "        np.reshape(vfeat[0, :, :, 6], (28, 28)),\n",
        "        np.reshape(vfeat[0, :, :, 7], (28, 28))\n",
        "        )"
      ],
      "outputs": [
        {
          "output_type": "display_data",
          "data": {
            "text/plain": [
              "<Figure size 1080x1080 with 8 Axes>"
            ],
            "image/png": "[encoded data removed]"
          },
          "metadata": {
            "tags": [],
            "needs_background": "light"
          }
        },
        {
          "output_type": "display_data",
          "data": {
            "text/plain": [
              "<Figure size 1080x1080 with 8 Axes>"
            ],
            "image/png": "[encoded data removed]"
          },
          "metadata": {
            "tags": [],
            "needs_background": "light"
          }
        }
      ],
      "metadata": {
        "id": "2oUKmN7p69UH",
        "colab": {
          "base_uri": "https://localhost:8080/",
          "height": 255
        },
        "outputId": "f26c222c-355e-4662-c3c8-7b68949fb16c"
      }
    },
    {
      "cell_type": "markdown",
      "source": [
        "# Model Evaluation\n",
        "\n",
        "Let us look at where the model is wrong with the confusion matrix (we will see if patterns of errors are recurrent)."
      ],
      "metadata": {
        "_uuid": "b2f9da3133e0f2f5a65d9514799dd28d47c27466",
        "id": "bJ3buO2lF-dy"
      }
    },
    {
      "cell_type": "code",
      "execution_count": 13,
      "source": [
        "# Look at confusion matrix \n",
        "\n",
        "def plot_confusion_matrix(cm, classes,\n",
        "                          normalize=False,\n",
        "                          title='Confusion matrix',\n",
        "                          cmap=plt.cm.Blues):\n",
        "    \"\"\"\n",
        "    This function prints and plots the confusion matrix.\n",
        "    Normalization can be applied by setting `normalize=True`.\n",
        "    \"\"\"\n",
        "    plt.figure(figsize=(16,6))\n",
        "    plt.imshow(cm, interpolation='nearest', cmap=cmap)\n",
        "    plt.title(title)\n",
        "    plt.colorbar()\n",
        "    tick_marks = np.arange(len(classes))\n",
        "    plt.xticks(tick_marks, classes, rotation=45)\n",
        "    plt.yticks(tick_marks, classes)\n",
        "\n",
        "    if normalize:\n",
        "        cm = cm.astype('float') / cm.sum(axis=1)[:, np.newaxis]\n",
        "\n",
        "    thresh = cm.max() / 2.\n",
        "    for i, j in itertools.product(range(cm.shape[0]), range(cm.shape[1])):\n",
        "        plt.text(j, i, cm[i, j],\n",
        "                 horizontalalignment=\"center\",\n",
        "                 color=\"white\" if cm[i, j] > thresh else \"black\")\n",
        "\n",
        "    plt.tight_layout()\n",
        "    plt.ylabel('True label')\n",
        "    plt.xlabel('Predicted label')\n",
        "\n",
        "# Predict the values from the validation dataset\n",
        "y_pred = model.predict(x_test)\n",
        "# Convert predictions classes to one hot vectors \n",
        "y_pred_classes = np.argmax(y_pred,axis = 1) \n",
        "# Convert validation observations to one hot vectors\n",
        "y_true = np.argmax(y_test,axis = 1) \n",
        "# compute the confusion matrix\n",
        "confusion_mtx = confusion_matrix(y_true, y_pred_classes) \n",
        "# plot the confusion matrix\n",
        "plot_confusion_matrix(confusion_mtx, classes = range(10)) "
      ],
      "outputs": [
        {
          "output_type": "display_data",
          "data": {
            "text/plain": [
              "<Figure size 1152x432 with 2 Axes>"
            ],
            "image/png": "[encoded data removed]"
          },
          "metadata": {
            "tags": [],
            "needs_background": "light"
          }
        }
      ],
      "metadata": {
        "_uuid": "959a5124bb1ce934ef1fb0042d3b323d412ab969",
        "execution": {
          "iopub.status.busy": "2021-05-31T20:11:44.374898Z",
          "iopub.status.idle": "2021-05-31T20:11:44.375313Z"
        },
        "trusted": true,
        "id": "vywByXI4F-dy",
        "colab": {
          "base_uri": "https://localhost:8080/",
          "height": 455
        },
        "outputId": "2c0c1e19-6ed3-4605-9619-89ed968182b7"
      }
    },
    {
      "cell_type": "code",
      "execution_count": 14,
      "source": [
        "# Display some error results \n",
        "\n",
        "# Errors are difference between predicted labels and true labels\n",
        "errors = (y_pred_classes - y_true != 0)\n",
        "\n",
        "y_pred_classes_errors = y_pred_classes[errors]\n",
        "y_pred_errors = y_pred[errors]\n",
        "y_true_errors = y_true[errors]\n",
        "x_val_errors = x_test[errors]\n",
        "\n",
        "def display_errors(errors_index,img_errors,pred_errors, obs_errors):\n",
        "    \"\"\" This function shows 6 images with their predicted and real labels\"\"\"\n",
        "    n = 0\n",
        "    nrows = 2\n",
        "    ncols = 3\n",
        "    fig, ax = plt.subplots(nrows, ncols, sharex=True, sharey=True, figsize=(14,8))\n",
        "    for row in range(nrows):\n",
        "        for col in range(ncols):\n",
        "            error = errors_index[n]\n",
        "            ax[row,col].imshow((img_errors[error]).reshape((28,28)))\n",
        "            ax[row,col].set_title(\"Predicted label :{}\\nTrue label :{}\".format(pred_errors[error],obs_errors[error]))\n",
        "            n += 1\n",
        "\n",
        "# Probabilities of the wrong predicted numbers\n",
        "y_pred_errors_prob = np.max(y_pred_errors,axis = 1)\n",
        "\n",
        "# Predicted probabilities of the true values in the error set\n",
        "true_prob_errors = np.diagonal(np.take(y_pred_errors, y_true_errors, axis=1))\n",
        "\n",
        "# Difference between the probability of the predicted label and the true label\n",
        "delta_pred_true_errors = y_pred_errors_prob - true_prob_errors\n",
        "\n",
        "# Sorted list of the delta prob errors\n",
        "sorted_dela_errors = np.argsort(delta_pred_true_errors)\n",
        "\n",
        "# Top 6 errors \n",
        "most_important_errors = sorted_dela_errors[-6:]\n",
        "\n",
        "# Show the top 6 errors\n",
        "display_errors(most_important_errors, x_val_errors, y_pred_classes_errors, y_true_errors)"
      ],
      "outputs": [
        {
          "output_type": "display_data",
          "data": {
            "text/plain": [
              "<Figure size 1008x576 with 6 Axes>"
            ],
            "image/png": "[encoded data removed]"
          },
          "metadata": {
            "tags": [],
            "needs_background": "light"
          }
        }
      ],
      "metadata": {
        "_uuid": "eb72b8fb0852f90da13ee9d567f8ae0cc3b0b0e9",
        "execution": {
          "iopub.status.busy": "2021-05-31T20:11:44.376019Z",
          "iopub.status.idle": "2021-05-31T20:11:44.376650Z"
        },
        "trusted": true,
        "id": "qBsrmw_gF-dz",
        "colab": {
          "base_uri": "https://localhost:8080/",
          "height": 514
        },
        "outputId": "a5f6436d-349e-487a-b953-6af244216213"
      }
    },
    {
      "cell_type": "markdown",
      "source": [
        "# Adverserial Attacks\n",
        "\n",
        "Optimize a noise pattern with backpropagated gradients obtained from maximizing missclassification error and minimizing the image noise."
      ],
      "metadata": {
        "id": "Fzo8r1I9O5i9"
      }
    },
    {
      "cell_type": "code",
      "execution_count": 15,
      "source": [
        "def adverserary_noise(target_cls, num_iterations=100, noise_limit = 0.35, noise_l2_weight = 0.02):\n",
        "    noise = tf.Variable(tf.zeros([28, 28, 1]),\n",
        "                  name='x_noise', trainable=True)\n",
        "    \n",
        "    opt = tf.keras.optimizers.Adam(learning_rate=1e-2)\n",
        "\n",
        "    for i in range(num_iterations):\n",
        "        for image, label in dataset_train.take(1):\n",
        "            image = tf.constant(image, dtype=tf.float32)\n",
        "            # Get a batch of labels for target class\n",
        "            y_true_batch = np.zeros_like(label)\n",
        "            y_true_batch[:, target_cls] = 1.0\n",
        "\n",
        "            # Forward pass\n",
        "            with tf.GradientTape() as tape:\n",
        "                # Watch operations done to noise image\n",
        "                tape.watch(noise)\n",
        "                # Add noise to image\n",
        "                noisy_image = image + noise\n",
        "                noisy_image = tf.clip_by_value(noisy_image, 0.0, 1.0)\n",
        "                # Infer noisy image's class\n",
        "                y_pred = model(noisy_image, training=False)\n",
        "                # Classification loss: maximize the number of classifications as the target\n",
        "                ccloss = tf.keras.losses.CategoricalCrossentropy()(y_true_batch, y_pred)\n",
        "                # L2-Loss: minimize the amount of noise \n",
        "                l2_loss_noise = noise_l2_weight * tf.nn.l2_loss(noise)\n",
        "                loss_adversary = ccloss + l2_loss_noise\n",
        "\n",
        "            # Backpropagation\n",
        "            grads = tape.gradient(loss_adversary, noise)\n",
        "\n",
        "            # Weigth update\n",
        "            opt.apply_gradients([(grads, noise)])\n",
        "            noise.assign(tf.clip_by_value(noise, -noise_limit, noise_limit))\n",
        "\n",
        "        # Print status every 100 iterations.\n",
        "        if (i % 1000 == 0) or (i == num_iterations - 1):\n",
        "            correct = np.argmax(y_pred, axis=1) == np.argmax(label, axis=1)\n",
        "            acc = float(np.sum(correct)) / len(label)\n",
        "\n",
        "            msg = \"Iteration: {0} - Accuracy: {1:.1%}\"\n",
        "            print(msg.format(i, acc))\n",
        "\n",
        "    return noise\n",
        "\n",
        "ad_noise = adverserary_noise(target_cls=0, num_iterations=4000)"
      ],
      "outputs": [
        {
          "output_type": "stream",
          "name": "stdout",
          "text": [
            "Iteration: 0 - Accuracy: 93.8%\n",
            "Iteration: 1000 - Accuracy: 28.1%\n",
            "Iteration: 2000 - Accuracy: 31.2%\n",
            "Iteration: 3000 - Accuracy: 28.1%\n",
            "Iteration: 3999 - Accuracy: 53.1%\n"
          ]
        }
      ],
      "metadata": {
        "id": "rVtcXlcmlIXE",
        "colab": {
          "base_uri": "https://localhost:8080/"
        },
        "outputId": "bb1df602-ba38-4637-af13-58d141e62b65"
      }
    },
    {
      "cell_type": "code",
      "execution_count": 16,
      "source": [
        "def plot_noise(noise):\n",
        "    print(\"Noise:\")\n",
        "    print(\"- Min:\", np.min(noise))\n",
        "    print(\"- Max:\", np.max(noise))\n",
        "    print(\"- Mean:\", np.mean(noise))\n",
        "    print(\"- Variance:\", np.var(noise))\n",
        "\n",
        "    plt.imshow(noise[:, :, 0], interpolation='nearest', cmap='seismic',\n",
        "               vmin=-1.0, vmax=1.0)\n",
        "    \n",
        "plot_noise(ad_noise.numpy())"
      ],
      "outputs": [
        {
          "output_type": "stream",
          "name": "stdout",
          "text": [
            "Noise:\n",
            "- Min: -0.35\n",
            "- Max: 0.35\n",
            "- Mean: -0.005326779\n",
            "- Variance: 0.07690245\n"
          ]
        },
        {
          "output_type": "display_data",
          "data": {
            "text/plain": [
              "<Figure size 432x288 with 1 Axes>"
            ],
            "image/png": "[encoded data removed]"
          },
          "metadata": {
            "tags": [],
            "needs_background": "light"
          }
        }
      ],
      "metadata": {
        "id": "XB5wlS8BvgFc",
        "colab": {
          "base_uri": "https://localhost:8080/",
          "height": 352
        },
        "outputId": "8ee7ca53-eda3-44db-9462-aed3237675ad"
      }
    },
    {
      "cell_type": "code",
      "execution_count": 17,
      "source": [
        "def plot_images(images, noise, y_true, y_pred):\n",
        "    assert len(images) == len(y_true) == 9\n",
        "    \n",
        "    fig, axes = plt.subplots(3, 3)\n",
        "    fig.subplots_adjust(hspace=0.3, wspace=0.3)\n",
        "\n",
        "    for i, ax in enumerate(axes.flat):\n",
        "        image = images[i]\n",
        "        # Add the noise\n",
        "        image += noise\n",
        "        image = np.clip(image, 0.0, 1.0)\n",
        "\n",
        "        # Plot image.\n",
        "        ax.imshow(image[:, :, 0],\n",
        "                  cmap='binary', interpolation='nearest')\n",
        "\n",
        "        # Show true and predicted classes.\n",
        "        xlabel = \"True: {0}, Pred: {1}\".format(np.argmax(y_true[i]), np.argmax(y_pred[i]))\n",
        "        ax.set_xlabel(xlabel)        \n",
        "        ax.set_xticks([])\n",
        "        ax.set_yticks([])\n",
        "    \n",
        "    plt.show()"
      ],
      "outputs": [],
      "metadata": {
        "id": "tWNYSlza9bdk"
      }
    },
    {
      "cell_type": "code",
      "execution_count": 18,
      "source": [
        "def plot_example_errors(y_pred, correct, images, labels, noise):\n",
        "    incorrect = (correct == False)\n",
        "    y_pred = y_pred[incorrect]\n",
        "    y_true = labels[incorrect]\n",
        "\n",
        "    plot_images(images=images[0:9],\n",
        "                y_true=y_true[0:9],\n",
        "                y_pred=y_pred[0:9],\n",
        "                noise=noise)"
      ],
      "outputs": [],
      "metadata": {
        "id": "kDkv8b_46BYl"
      }
    },
    {
      "cell_type": "code",
      "execution_count": 19,
      "source": [
        "def print_test_accuracy():    \n",
        "    noise = ad_noise\n",
        "    for images, labels in dataset_train.take(1):\n",
        "        # Add noise to the images\n",
        "        images += noise\n",
        "        images = np.clip(images, 0.0, 1.0)\n",
        "        # Inference\n",
        "        y_pred = model.predict(images)\n",
        "\n",
        "    # Accuracy metrics\n",
        "    correct = np.argmax(labels, axis=1) == np.argmax(y_pred, axis=1)\n",
        "    acc = float(correct.sum()) / len(labels)\n",
        "    msg = \"Accuracy on Test-Set: {0:.1%} ({1} / {2})\"\n",
        "    print(msg.format(acc, correct.sum(), len(labels)))\n",
        "\n",
        "    print(\"Example errors:\")\n",
        "    plot_example_errors(y_pred, correct, images, labels, noise)"
      ],
      "outputs": [],
      "metadata": {
        "id": "C3KBeQsG53kn"
      }
    },
    {
      "cell_type": "code",
      "execution_count": 20,
      "source": [
        "print_test_accuracy()"
      ],
      "outputs": [
        {
          "output_type": "stream",
          "name": "stdout",
          "text": [
            "Accuracy on Test-Set: 31.2% (10 / 32)\n",
            "Example errors:\n"
          ]
        },
        {
          "output_type": "display_data",
          "data": {
            "text/plain": [
              "<Figure size 432x288 with 9 Axes>"
            ],
            "image/png": "[encoded data removed]"
          },
          "metadata": {
            "tags": []
          }
        }
      ],
      "metadata": {
        "id": "I2X1PY9Aw61j",
        "colab": {
          "base_uri": "https://localhost:8080/",
          "height": 297
        },
        "outputId": "8f371a8b-c820-4964-c09a-01ecea818309"
      }
    }
  ]
}