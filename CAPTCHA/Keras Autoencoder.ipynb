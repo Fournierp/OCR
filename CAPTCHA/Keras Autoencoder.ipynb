{
 "cells": [
  {
   "cell_type": "markdown",
   "metadata": {},
   "source": [
    "# Table of Content\n",
    "\n",
    "1. [Introduction](#Introduction)\n",
    "2. [Imports](#Imports)\n",
    "3. [Data Processing](#Data-Processing) <br>\n",
    "3.1 [Normalization](#Normalization) <br>\n",
    "3.2 [Categorization](#Categorization) <br>\n",
    "3.3 [Train-test Split](#Train-test-Split) <br>\n",
    "3.4 [Data Augmentation](#Data-Augmentation) <br>\n",
    "4. [Convolutional Autoencoder](#Convolutional-Autoencoder)  <br>\n",
    "4.1 [Visualise Reconstructed Images](#Visualise-Reconstructed-Images) <br>\n",
    "4.2 [Salt and Peper Noise](#Salt-and-Peper-Noise) <br>\n",
    "4.3 [Visualise Denoised Images](#Visualise-Denoised-Images) <br>\n",
    "3.3 [Train-test Split](#Train-test-Split) <br>\n",
    "5. [Categorization Neural Network](#Categorization-Neural-Network) <br>\n",
    "5.1 [Train-test Split](#Train-test-Split) <br>\n",
    "5.2 [Data Augmentation](#Data-Augmentation) <br>\n",
    "5.3 [Model](#Model) <br>\n",
    "6. [Evaluate Model](#Evaluate-Model)\n",
    "\n",
    "## Introduction\n",
    "\n",
    "This notebook is an attempt at solving a CAPTCHA test.\n",
    "This CAPTCHA is an 5 letter with noise (a blur and line that crosses the word).\n",
    "I approcahed the problem by initially segmenting the word using OpenCV (see the notebook). This mainly enables to remove the blur and reduce the width of the line. <br>\n",
    "Since this is not enough, to have a reliable prediction of the word, I explored autoencoders using Keras with a Tensorflow backend. Autoencoders are very simply two Neural Networks plugged to each other: the encoder reduces the dimensions of the data (compressing it) and the decoder expands the dimensions (decompressing/reconstructing it). Thus they are very good at denoising data. Since the images are not clear yet, using an autoencoder is ideal for further data cleaning. So I chose for each letter the most (humanly) readable letter and trained the AE on reconstructing these ideal letters.<br>\n",
    "Because the CAPTCHA dataset is very small, I used Data Augmentation to enlarge it. Autoencoders are data specific, this means given very different data it will not perform well, so I will add salt and pepper noise to the data and retrain our model. <br>\n",
    "At this point our model is able to denoise varied CAPTCHA Images so I use the Encoder Neural Network to predict the label of the letter and decipher the word.\n",
    "\n",
    "## Imports"
   ]
  },
  {
   "cell_type": "code",
   "execution_count": 1,
   "metadata": {},
   "outputs": [
    {
     "name": "stderr",
     "output_type": "stream",
     "text": [
      "C:\\Users\\Paul Fournier\\Anaconda3\\lib\\site-packages\\h5py\\__init__.py:36: FutureWarning: Conversion of the second argument of issubdtype from `float` to `np.floating` is deprecated. In future, it will be treated as `np.float64 == np.dtype(float).type`.\n",
      "  from ._conv import register_converters as _register_converters\n",
      "Using TensorFlow backend.\n"
     ]
    }
   ],
   "source": [
    "import numpy as np\n",
    "import pandas as pd\n",
    "import os.path\n",
    "from imutils import paths\n",
    "import cv2\n",
    "\n",
    "import matplotlib.pyplot as plt\n",
    "%matplotlib inline\n",
    "\n",
    "from sklearn.model_selection import train_test_split\n",
    "\n",
    "from keras.utils.np_utils import to_categorical\n",
    "from keras.preprocessing.image import ImageDataGenerator\n",
    "from keras.layers import Conv2D, Dense, Dropout, Input, Flatten, MaxPooling2D, UpSampling2D\n",
    "from keras.models import Model\n",
    "import keras.optimizers\n",
    "from keras.callbacks import EarlyStopping, ReduceLROnPlateau\n"
   ]
  },
  {
   "cell_type": "markdown",
   "metadata": {},
   "source": [
    "## Processing\n",
    "\n",
    "Load the CAPTCHA images, the target images and the labels."
   ]
  },
  {
   "cell_type": "code",
   "execution_count": 2,
   "metadata": {},
   "outputs": [],
   "source": [
    "LETTER_FOLDER = \"letters\"\n",
    "data = []\n",
    "target = []\n",
    "labels = []\n",
    "\n",
    "for image_file in paths.list_images(LETTER_FOLDER):\n",
    "    # Load the image.\n",
    "    image = cv2.imread(image_file, cv2.IMREAD_GRAYSCALE)\n",
    "\n",
    "    # Add a third channel dimension to the image.\n",
    "    image = np.expand_dims(image, axis=2)\n",
    "\n",
    "    # Get the folder name (ie. the true character value).\n",
    "    label = image_file.split(os.path.sep)[-2]\n",
    "\n",
    "    # Add the image and char to the dictionary.\n",
    "    data.append(image)\n",
    "    if label == '2':\n",
    "        img = cv2.imread('letters/2/000005.png', cv2.IMREAD_GRAYSCALE)\n",
    "        img = np.expand_dims(img, axis=2)\n",
    "        target.append(img)\n",
    "        labels.append(1)\n",
    "    elif label == '3':\n",
    "        img = cv2.imread('letters/3/000127.png', cv2.IMREAD_GRAYSCALE)\n",
    "        img = np.expand_dims(img, axis=2)\n",
    "        target.append(img)\n",
    "        labels.append(2)\n",
    "    elif label == '4':\n",
    "        img = cv2.imread('letters/4/000001.png', cv2.IMREAD_GRAYSCALE)\n",
    "        img = np.expand_dims(img, axis=2)\n",
    "        target.append(img)\n",
    "        labels.append(3)\n",
    "    elif label == '5':\n",
    "        img = cv2.imread('letters/5/000007.png', cv2.IMREAD_GRAYSCALE)\n",
    "        img = np.expand_dims(img, axis=2)\n",
    "        target.append(img)\n",
    "        labels.append(4)\n",
    "    elif label == '6':\n",
    "        img = cv2.imread('letters/6/000006.png', cv2.IMREAD_GRAYSCALE)\n",
    "        img = np.expand_dims(img, axis=2)\n",
    "        target.append(img)\n",
    "        labels.append(5)\n",
    "    elif label == '7':\n",
    "        img = cv2.imread('letters/7/000017.png', cv2.IMREAD_GRAYSCALE)\n",
    "        img = np.expand_dims(img, axis=2)\n",
    "        target.append(img)\n",
    "        labels.append(6)\n",
    "    elif label == '8':\n",
    "        img = cv2.imread('letters/8/000004.png', cv2.IMREAD_GRAYSCALE)\n",
    "        img = np.expand_dims(img, axis=2)\n",
    "        target.append(img)\n",
    "        labels.append(7)\n",
    "    elif label == 'b':\n",
    "        img = cv2.imread('letters/b/000001.png', cv2.IMREAD_GRAYSCALE)\n",
    "        img = np.expand_dims(img, axis=2)\n",
    "        target.append(img)\n",
    "        labels.append(8)\n",
    "    elif label == 'c':\n",
    "        img = cv2.imread('letters/c/000014.png', cv2.IMREAD_GRAYSCALE)\n",
    "        img = np.expand_dims(img, axis=2)\n",
    "        target.append(img)\n",
    "        labels.append(9)\n",
    "    elif label == 'd':\n",
    "        img = cv2.imread('letters/d/000025.png', cv2.IMREAD_GRAYSCALE)\n",
    "        img = np.expand_dims(img, axis=2)\n",
    "        target.append(img)\n",
    "        labels.append(10)\n",
    "    elif label == 'e':\n",
    "        img = cv2.imread('letters/e/000004.png', cv2.IMREAD_GRAYSCALE)\n",
    "        img = np.expand_dims(img, axis=2)\n",
    "        target.append(img)\n",
    "        labels.append(11)\n",
    "    elif label == 'f':\n",
    "        img = cv2.imread('letters/f/000015.png', cv2.IMREAD_GRAYSCALE)\n",
    "        img = np.expand_dims(img, axis=2)\n",
    "        target.append(img)\n",
    "        labels.append(12)\n",
    "    elif label == 'g':\n",
    "        img = cv2.imread('letters/g/000034.png', cv2.IMREAD_GRAYSCALE)\n",
    "        img = np.expand_dims(img, axis=2)\n",
    "        target.append(img)\n",
    "        labels.append(13)\n",
    "    elif label == 'm':\n",
    "        img = cv2.imread('letters/m/000036.png', cv2.IMREAD_GRAYSCALE)\n",
    "        img = np.expand_dims(img, axis=2)\n",
    "        target.append(img)\n",
    "        labels.append(14)\n",
    "    elif label == 'n':\n",
    "        img = cv2.imread('letters/n/000002.png', cv2.IMREAD_GRAYSCALE)\n",
    "        img = np.expand_dims(img, axis=2)\n",
    "        target.append(img)\n",
    "        labels.append(15)\n",
    "    elif label == 'p':\n",
    "        img = cv2.imread('letters/p/000002.png', cv2.IMREAD_GRAYSCALE)\n",
    "        img = np.expand_dims(img, axis=2)\n",
    "        target.append(img)\n",
    "        labels.append(16)\n",
    "    elif label == 'w':\n",
    "        img = cv2.imread('letters/w/000017.png', cv2.IMREAD_GRAYSCALE)\n",
    "        img = np.expand_dims(img, axis=2)\n",
    "        target.append(img)\n",
    "        labels.append(17)\n",
    "    elif label == 'x':\n",
    "        img = cv2.imread('letters/x/000012.png', cv2.IMREAD_GRAYSCALE)\n",
    "        img = np.expand_dims(img, axis=2)\n",
    "        target.append(img)\n",
    "        labels.append(18)\n",
    "    elif label == 'y':\n",
    "        img = cv2.imread('letters/y/000014.png', cv2.IMREAD_GRAYSCALE)\n",
    "        img = np.expand_dims(img, axis=2)\n",
    "        target.append(img)\n",
    "        labels.append(0)\n"
   ]
  },
  {
   "cell_type": "markdown",
   "metadata": {},
   "source": [
    "### Normalization"
   ]
  },
  {
   "cell_type": "code",
   "execution_count": 3,
   "metadata": {},
   "outputs": [],
   "source": [
    "data = np.array(data, dtype=\"float\") / 255.0\n",
    "target = np.array(target, dtype=\"float\") / 255.0\n",
    "labels = np.array(labels)"
   ]
  },
  {
   "cell_type": "markdown",
   "metadata": {},
   "source": [
    "### Categorization"
   ]
  },
  {
   "cell_type": "code",
   "execution_count": 4,
   "metadata": {},
   "outputs": [],
   "source": [
    "labels = to_categorical(labels, num_classes=19)"
   ]
  },
  {
   "cell_type": "markdown",
   "metadata": {},
   "source": [
    "### Train-test Split"
   ]
  },
  {
   "cell_type": "code",
   "execution_count": 5,
   "metadata": {},
   "outputs": [],
   "source": [
    "(x_train, x_test, y_train, y_test) = train_test_split(data, target, test_size=0.2, random_state=0)"
   ]
  },
  {
   "cell_type": "markdown",
   "metadata": {},
   "source": [
    "### Data Augmentation"
   ]
  },
  {
   "cell_type": "code",
   "execution_count": 6,
   "metadata": {},
   "outputs": [],
   "source": [
    "datagen = ImageDataGenerator(# randomly rotate images in the range (degrees, 0 to 180).\n",
    "    rotation_range=15,\n",
    "    zoom_range=0.1,  # Randomly zoom image.\n",
    "    width_shift_range=0.1, # randomly shift images horizontally (fraction of total width).\n",
    "    height_shift_range=0.1, # randomly shift images vertically (fraction of total height).\n",
    ")\n",
    "\n",
    "datagen.fit(x_train)"
   ]
  },
  {
   "cell_type": "markdown",
   "metadata": {},
   "source": [
    "## Convolutional Autoencoder\n",
    "\n",
    "The data is 2D images so we use Convolutional and MaxPooling/UpSampling Layers."
   ]
  },
  {
   "cell_type": "code",
   "execution_count": 7,
   "metadata": {},
   "outputs": [],
   "source": [
    "input_img = Input(shape=(40, 24, 1))\n",
    "\n",
    "# Encoder.\n",
    "x = Conv2D(32, (5, 5), activation='relu', padding='same')(input_img)\n",
    "x = MaxPooling2D(pool_size=(2, 2), strides=(2, 2), padding='same')(x)\n",
    "x = Conv2D(16, (5, 5), activation='relu', padding='same')(x)\n",
    "x = MaxPooling2D(pool_size=(2, 2), strides=(2, 2), padding='same')(x)\n",
    "x = Conv2D(16, (5, 5), activation='relu', padding='same')(x)\n",
    "encoded = MaxPooling2D(pool_size=(2, 2), strides=(2, 2), padding='same')(x)\n",
    "encoder = Model(input_img, encoded)\n",
    "\n",
    "# Decoder.\n",
    "x = Conv2D(16, (5, 5), activation='relu', padding='same')(encoded)\n",
    "x = UpSampling2D((2, 2))(x)\n",
    "x = Conv2D(16, (5, 5), activation='relu', padding='same')(x)\n",
    "x = UpSampling2D((2, 2))(x)\n",
    "x = Conv2D(32, (5, 5), activation='relu', padding='same')(x)\n",
    "x = UpSampling2D((2, 2))(x)\n",
    "decoded = Conv2D(1, (5, 5), activation='sigmoid', padding='same')(x)\n"
   ]
  },
  {
   "cell_type": "code",
   "execution_count": 8,
   "metadata": {},
   "outputs": [
    {
     "name": "stdout",
     "output_type": "stream",
     "text": [
      "Epoch 1/1\n",
      "4280/4280 [==============================] - 115s 27ms/step - loss: 0.2734 - acc: 0.8783 - val_loss: 0.1942 - val_acc: 0.9214\n"
     ]
    }
   ],
   "source": [
    "# Optimizer.\n",
    "optimizer = keras.optimizers.Adam(\n",
    "    lr=0.001, beta_1=0.9, beta_2=0.999, epsilon=1e-8)\n",
    "\n",
    "# Callbacks.\n",
    "learning_rate_reduction = ReduceLROnPlateau(\n",
    "    monitor='val_acc', patience=2, verbose=1, factor=0.4, min_lr=0.000001)\n",
    "early_stopping = EarlyStopping(\n",
    "    monitor='val_loss', min_delta=0, patience=3, verbose=1, mode='auto')\n",
    "\n",
    "# Create model.\n",
    "autoencoder = Model(input_img, decoded)\n",
    "autoencoder.compile(optimizer=optimizer,\n",
    "                    loss='binary_crossentropy', metrics=['accuracy'])\n",
    "\n",
    "history = autoencoder.fit_generator(datagen.flow(x_train, y_train, batch_size=64),\n",
    "                                    epochs=1, validation_data=(x_test, y_test),\n",
    "                                    verbose=1, steps_per_epoch=x_train.shape[0],\n",
    "                                    callbacks=[learning_rate_reduction, early_stopping])"
   ]
  },
  {
   "cell_type": "markdown",
   "metadata": {},
   "source": [
    "### Visualise Reconstructed Images"
   ]
  },
  {
   "cell_type": "code",
   "execution_count": 9,
   "metadata": {},
   "outputs": [
    {
     "data": {
      "image/png": "[encoded data removed]",
      "text/plain": [
       "<matplotlib.figure.Figure at 0x1d227cb8eb8>"
      ]
     },
     "metadata": {},
     "output_type": "display_data"
    }
   ],
   "source": [
    "decoded_imgs = autoencoder.predict(x_test)\n",
    "n = 5\n",
    "plt.figure(figsize=(20, 4))\n",
    "for i in range(n):\n",
    "    i = i + 1\n",
    "    # display original\n",
    "    ax = plt.subplot(2, n, i)\n",
    "    plt.imshow(x_test[i].reshape(40, 24))\n",
    "    plt.gray()\n",
    "    ax.get_xaxis().set_visible(False)\n",
    "    ax.get_yaxis().set_visible(False)\n",
    "\n",
    "    # display reconstruction\n",
    "    ax = plt.subplot(2, n, i + n)\n",
    "    plt.imshow(decoded_imgs[i].reshape(40, 24))\n",
    "    plt.gray()\n",
    "    ax.get_xaxis().set_visible(False)\n",
    "    ax.get_yaxis().set_visible(False)\n",
    "plt.show()\n"
   ]
  },
  {
   "cell_type": "markdown",
   "metadata": {},
   "source": [
    "### Salt and Peper Noise"
   ]
  },
  {
   "cell_type": "code",
   "execution_count": 10,
   "metadata": {},
   "outputs": [],
   "source": [
    "noise_factor = 0.5\n",
    "x_train_noisy = x_train + noise_factor * \\\n",
    "    np.random.normal(loc=0.0, scale=1.0, size=x_train.shape)\n",
    "x_test_noisy = x_test + noise_factor * \\\n",
    "    np.random.normal(loc=0.0, scale=1.0, size=x_test.shape)\n",
    "\n",
    "x_train_noisy = np.clip(x_train_noisy, 0., 1.)\n",
    "x_test_noisy = np.clip(x_test_noisy, 0., 1.)"
   ]
  },
  {
   "cell_type": "code",
   "execution_count": 11,
   "metadata": {},
   "outputs": [
    {
     "name": "stdout",
     "output_type": "stream",
     "text": [
      "Epoch 1/1\n",
      "4280/4280 [==============================] - 118s 28ms/step - loss: 0.1974 - acc: 0.9194 - val_loss: 0.3002 - val_acc: 0.8668\n"
     ]
    }
   ],
   "source": [
    "# Retrain model.\n",
    "history = autoencoder.fit_generator(datagen.flow(x_train, y_train, batch_size=64),\n",
    "                                    epochs=1, validation_data=(x_test_noisy, y_test),\n",
    "                                    verbose=1, steps_per_epoch=x_train.shape[0],\n",
    "                                    callbacks=[learning_rate_reduction, early_stopping])"
   ]
  },
  {
   "cell_type": "markdown",
   "metadata": {},
   "source": [
    "### Visualise Denoised Images"
   ]
  },
  {
   "cell_type": "code",
   "execution_count": 12,
   "metadata": {},
   "outputs": [
    {
     "data": {
      "image/png": "[encoded data removed]",
      "text/plain": [
       "<matplotlib.figure.Figure at 0x1d21ebd86a0>"
      ]
     },
     "metadata": {},
     "output_type": "display_data"
    }
   ],
   "source": [
    "decoded_imgs = autoencoder.predict(x_test_noisy)\n",
    "n = 5\n",
    "plt.figure(figsize=(20, 4))\n",
    "for i in range(n):\n",
    "    i = i + 1\n",
    "    # display original\n",
    "    ax = plt.subplot(2, n, i)\n",
    "    plt.imshow(x_test_noisy[i].reshape(40, 24))\n",
    "    plt.gray()\n",
    "    ax.get_xaxis().set_visible(False)\n",
    "    ax.get_yaxis().set_visible(False)\n",
    "    \n",
    "    # display reconstruction\n",
    "    ax = plt.subplot(2, n, i + n)\n",
    "    plt.imshow(decoded_imgs[i].reshape(40, 24))\n",
    "    plt.gray()\n",
    "    ax.get_xaxis().set_visible(False)\n",
    "    ax.get_yaxis().set_visible(False)\n",
    "plt.show()\n"
   ]
  },
  {
   "cell_type": "markdown",
   "metadata": {},
   "source": [
    "## Categorization Neural Network\n",
    "\n",
    "### Train-test split"
   ]
  },
  {
   "cell_type": "code",
   "execution_count": 13,
   "metadata": {},
   "outputs": [],
   "source": [
    "# Use denoise images.\n",
    "decoded_images = autoencoder.predict(data)\n",
    "(x_train, x_test, y_train, y_test) = train_test_split(\n",
    "    decoded_images, labels, test_size=0.2, random_state=0)"
   ]
  },
  {
   "cell_type": "markdown",
   "metadata": {},
   "source": [
    "### Data Augmentation"
   ]
  },
  {
   "cell_type": "code",
   "execution_count": 14,
   "metadata": {},
   "outputs": [],
   "source": [
    "datagen = ImageDataGenerator( # randomly rotate images in the range (degrees, 0 to 180).\n",
    "    rotation_range=15,\n",
    "    zoom_range=0.1, # Randomly zoom image.\n",
    "    width_shift_range=0.1, # randomly shift images horizontally (fraction of total width).\n",
    "    height_shift_range=0.1, # randomly shift images vertically (fraction of total height).\n",
    ")\n",
    "\n",
    "datagen.fit(x_train)"
   ]
  },
  {
   "cell_type": "markdown",
   "metadata": {},
   "source": [
    "### Model"
   ]
  },
  {
   "cell_type": "code",
   "execution_count": 15,
   "metadata": {},
   "outputs": [
    {
     "name": "stdout",
     "output_type": "stream",
     "text": [
      "Epoch 1/1\n",
      "4280/4280 [==============================] - 87s 20ms/step - loss: 0.0347 - acc: 0.9899 - val_loss: 0.0395 - val_acc: 0.9885\n"
     ]
    }
   ],
   "source": [
    "# Create model for labelling images.\n",
    "out = Flatten()(encoder.output)\n",
    "out = Dense(19, activation='softmax')(out)\n",
    "labeller = Model(encoder.input, out)\n",
    "\n",
    "labeller.compile(optimizer=optimizer,\n",
    "                 loss='binary_crossentropy', metrics=['accuracy'])\n",
    "\n",
    "history = labeller.fit_generator(datagen.flow(x_train, y_train, batch_size=64),\n",
    "                                 epochs=1, validation_data=(x_test, y_test),\n",
    "                                 verbose=1, steps_per_epoch=x_train.shape[0],\n",
    "                                 callbacks=[learning_rate_reduction, early_stopping])"
   ]
  },
  {
   "cell_type": "code",
   "execution_count": 16,
   "metadata": {},
   "outputs": [
    {
     "name": "stdout",
     "output_type": "stream",
     "text": [
      "1070/1070 [==============================] - 0s 105us/step\n",
      "Accuracy:  0.9885391110571745\n"
     ]
    }
   ],
   "source": [
    "scores = labeller.evaluate(x_test, y_test, verbose=1)\n",
    "print(\"Accuracy: \", scores[1])"
   ]
  },
  {
   "cell_type": "markdown",
   "metadata": {},
   "source": [
    "## Evaluate Model"
   ]
  },
  {
   "cell_type": "code",
   "execution_count": 21,
   "metadata": {},
   "outputs": [
    {
     "data": {
      "image/png": "[encoded data removed]",
      "text/plain": [
       "<matplotlib.figure.Figure at 0x1d225b39d30>"
      ]
     },
     "metadata": {},
     "output_type": "display_data"
    }
   ],
   "source": [
    "# Display some error results \n",
    "\n",
    "# Predict the values from the validation dataset\n",
    "y_pred = labeller.predict(x_test)\n",
    "# Convert predictions classes to one hot vectors \n",
    "y_pred_classes = np.argmax(y_pred,axis = 1) \n",
    "# Convert validation observations to one hot vectors\n",
    "y_true = np.argmax(y_test,axis = 1) \n",
    "\n",
    "# Errors are difference between predicted labels and true labels\n",
    "errors = (y_pred_classes - y_true != 0)\n",
    "\n",
    "y_pred_classes_errors = y_pred_classes[errors]\n",
    "y_pred_errors = y_pred[errors]\n",
    "y_true_errors = y_true[errors]\n",
    "x_val_errors = x_test[errors]\n",
    "\n",
    "def display_errors(errors_index,img_errors,pred_errors, obs_errors):\n",
    "    \"\"\" This function shows 6 images with their predicted and real labels\"\"\"\n",
    "    n = 0\n",
    "    nrows = 2\n",
    "    ncols = 3\n",
    "    fig, ax = plt.subplots(nrows,ncols,sharex=True,sharey=True)\n",
    "    for row in range(nrows):\n",
    "        for col in range(ncols):\n",
    "            error = errors_index[n]\n",
    "            ax[row,col].imshow((img_errors[error]).reshape((40,24)))\n",
    "            ax[row,col].set_title(\"Predicted label :{}\\nTrue label :{}\".format(pred_errors[error],obs_errors[error]))\n",
    "            n += 1\n",
    "\n",
    "# Probabilities of the wrong predicted numbers\n",
    "y_pred_errors_prob = np.max(y_pred_errors,axis = 1)\n",
    "\n",
    "# Predicted probabilities of the true values in the error set\n",
    "true_prob_errors = np.diagonal(np.take(y_pred_errors, y_true_errors, axis=1))\n",
    "\n",
    "# Difference between the probability of the predicted label and the true label\n",
    "delta_pred_true_errors = y_pred_errors_prob - true_prob_errors\n",
    "\n",
    "# Sorted list of the delta prob errors\n",
    "sorted_dela_errors = np.argsort(delta_pred_true_errors)\n",
    "\n",
    "# Top 6 errors \n",
    "most_important_errors = sorted_dela_errors[-6:]\n",
    "\n",
    "# Show the top 6 errors\n",
    "display_errors(most_important_errors, x_val_errors, y_pred_classes_errors, y_true_errors)"
   ]
  },
  {
   "cell_type": "code",
   "execution_count": null,
   "metadata": {},
   "outputs": [],
   "source": []
  }
 ],
 "metadata": {
  "kernelspec": {
   "display_name": "Python 3",
   "language": "python",
   "name": "python3"
  },
  "language_info": {
   "codemirror_mode": {
    "name": "ipython",
    "version": 3
   },
   "file_extension": ".py",
   "mimetype": "text/x-python",
   "name": "python",
   "nbconvert_exporter": "python",
   "pygments_lexer": "ipython3",
   "version": "3.6.4"
  }
 },
 "nbformat": 4,
 "nbformat_minor": 2
}
